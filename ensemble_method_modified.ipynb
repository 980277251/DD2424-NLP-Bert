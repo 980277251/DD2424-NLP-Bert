{
 "cells": [
  {
   "cell_type": "code",
   "execution_count": 46,
   "metadata": {},
   "outputs": [],
   "source": [
    "from collections import OrderedDict\n",
    "import copy\n",
    "import requests\n",
    "import json\n",
    "import copy\n",
    "import random\n",
    "import operator\n",
    "json_new = 'SQUAD_DIR/ensemble_method1.json'\n",
    "prediction_base = 'SQUAD_DIR/squad2.0_base_predictions.json'\n",
    "general_1 = 'SQUAD_DIR/squad2.0_base_nbest_predictions-jun1.json'\n",
    "general_2 = 'SQUAD_DIR/squad_result_2.1-nbest_predictions_Rhett1.json'\n",
    "general_3 = 'SQUAD_DIR/squad2.0_base_nbest_predictions_jane1.json'\n",
    "special_1 = 'SQUAD_DIR/squad_result_2.3_batchsize32_30%noise_nbest_predictions.json'\n",
    "special_2 = 'SQUAD_DIR/squad2.0_base_result_15%noise_nbest_predictions.json'\n",
    "special_3 = 'SQUAD_DIR/squad_result_batch32_0%noise_nbest_predictions_jun2.json'\n",
    "file = open(json_new, 'w')\n",
    "with open(prediction_base) as s:\n",
    "    with open(general_1) as f:\n",
    "        with open(general_2) as g:\n",
    "            with open(general_3) as h:\n",
    "                with open(special_1) as x:\n",
    "                    with open(special_2) as y:\n",
    "                        with open(special_3) as z:\n",
    "                            g1 = json.load(f)\n",
    "                            g2 = json.load(g)\n",
    "                            g3 = json.load(h)\n",
    "                            s1 = json.load(x)\n",
    "                            s2 = json.load(y)\n",
    "                            s3 = json.load(z)\n",
    "                            pred = json.load(s)"
   ]
  },
  {
   "cell_type": "code",
   "execution_count": 47,
   "metadata": {},
   "outputs": [
    {
     "data": {
      "text/plain": [
       "'56ddde6b9a695914005b9628'"
      ]
     },
     "execution_count": 47,
     "metadata": {},
     "output_type": "execute_result"
    }
   ],
   "source": [
    "len(pred) #11873 predictions \n",
    "list(pred.keys())[0]\n"
   ]
  },
  {
   "cell_type": "code",
   "execution_count": 48,
   "metadata": {},
   "outputs": [],
   "source": [
    "#无答案的给general model决策\n",
    "# g是general model, s是specialized model。\n",
    "g_list = [g1, g2, g3]\n",
    "s_list = [s3, s3, s3]\n",
    "#s1~30%, s2~15%, s3~0%\n",
    "no_answer_idList = []\n",
    "n = len(g_list)\n",
    "\n",
    "for ID in list(pred.keys()):\n",
    "    count_noAnswer = 0\n",
    "    count_Answer = 0\n",
    "    for g in g_list:\n",
    "        if g[ID][0]['text'] == '':\n",
    "            count_noAnswer += 1\n",
    "        else: \n",
    "            count_Answer += 1\n",
    "#     print ('no answer: ', count_noAnswer)\n",
    "#     print ('answer: ', count_Answer)\n",
    "    if count_noAnswer > count_Answer:\n",
    "        pred[ID] = ''\n",
    "        no_answer_idList.append(ID)"
   ]
  },
  {
   "cell_type": "code",
   "execution_count": 49,
   "metadata": {},
   "outputs": [],
   "source": [
    "#方法1:有答案的，按照special model概率相加投票\n",
    "for ID in list(g1.keys()):\n",
    "    if ID in no_answer_idList: \n",
    "        continue\n",
    "    else:\n",
    "        v1 = OrderedDict()\n",
    "        v2 = OrderedDict()\n",
    "        v3 = OrderedDict()\n",
    "#         print (ID)\n",
    "    #     for v_unit in v_list:\n",
    "        for rank in range(5):\n",
    "            v1[s1[ID][rank]['text']] = s1[ID][rank]['probability']\n",
    "            v2[s2[ID][rank]['text']] = s2[ID][rank]['probability']\n",
    "            v3[s3[ID][rank]['text']] = s3[ID][rank]['probability']\n",
    "        v_list = [v1, v2, v3]\n",
    "        V = v1.copy()\n",
    "        V.update(v2)\n",
    "        V.update(v3)\n",
    "        for key in V.keys():\n",
    "            V[key] = 0\n",
    "        for key in V.keys():\n",
    "            for v0 in v_list:\n",
    "                if key in v0:\n",
    "                    V[key] = float(V[key]) + float(v0[key])\n",
    "        R = sorted(V.items(),key = operator.itemgetter(1))\n",
    "        pred[ID] = R[-1][0]"
   ]
  },
  {
   "cell_type": "code",
   "execution_count": 8,
   "metadata": {},
   "outputs": [],
   "source": [
    "# #方法二，有答案的，直接按照special model排名最高的答案投票\n",
    "# for ID in list(g1.keys()):\n",
    "#     if ID in no_answer_idList: \n",
    "#         continue\n",
    "#     else:  \n",
    "#         v1 = OrderedDict()\n",
    "#         v2 = OrderedDict()\n",
    "#         v3 = OrderedDict()\n",
    "# #         print (ID)\n",
    "#     #     for v_unit in v_list:\n",
    "# #         for rank in range(10):\n",
    "#         rank = 0\n",
    "#         v1[s1[ID][rank]['text']] = s1[ID][rank]['probability']\n",
    "#         v2[s2[ID][rank]['text']] = s2[ID][rank]['probability']\n",
    "#         v3[s3[ID][rank]['text']] = s3[ID][rank]['probability']\n",
    "#         v_list = [v1, v2, v3]\n",
    "#         V = v1.copy()\n",
    "#         V.update(v2)\n",
    "#         V.update(v3)\n",
    "#         for key in V.keys():\n",
    "#             V[key] = 0\n",
    "#         for key in V.keys():\n",
    "#             for v0 in v_list:\n",
    "#                 if key in v0:\n",
    "#                     V[key] = float(V[key]) + 1\n",
    "#         sorted(V.items(),key = operator.itemgetter(1))\n",
    "#         pred[ID] = list(V.keys())[0]"
   ]
  },
  {
   "cell_type": "code",
   "execution_count": 50,
   "metadata": {},
   "outputs": [],
   "source": [
    "#保存\n",
    "pred = json.dumps(pred)\n",
    "file.write(pred)\n",
    "file.close()"
   ]
  },
  {
   "cell_type": "code",
   "execution_count": null,
   "metadata": {},
   "outputs": [],
   "source": []
  }
 ],
 "metadata": {
  "kernelspec": {
   "display_name": "Python 3",
   "language": "python",
   "name": "python3"
  },
  "language_info": {
   "codemirror_mode": {
    "name": "ipython",
    "version": 3
   },
   "file_extension": ".py",
   "mimetype": "text/x-python",
   "name": "python",
   "nbconvert_exporter": "python",
   "pygments_lexer": "ipython3",
   "version": "3.6.4"
  }
 },
 "nbformat": 4,
 "nbformat_minor": 2
}
